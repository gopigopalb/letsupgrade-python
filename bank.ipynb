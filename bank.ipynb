#1 program for bank deposit and withdrawal
{
  "nbformat": 4,
  "nbformat_minor": 0,
  "metadata": {
    "colab": {
      "name": "bank.ipynb",
      "provenance": [],
      "collapsed_sections": [],
      "authorship_tag": "ABX9TyMfp0evQbMlvE53qIJsO4Z3",
      "include_colab_link": true
    },
    "kernelspec": {
      "name": "python3",
      "display_name": "Python 3"
    }
  },
  "cells": [
    {
      "cell_type": "markdown",
      "metadata": {
        "id": "view-in-github",
        "colab_type": "text"
      },
      "source": [
        "<a href=\"https://colab.research.google.com/github/gopigopalb/letsupgrade-python/blob/master/bank.ipynb\" target=\"_parent\"><img src=\"https://colab.research.google.com/assets/colab-badge.svg\" alt=\"Open In Colab\"/></a>"
      ]
    },
    {
      "cell_type": "code",
      "metadata": {
        "id": "bOmf5Gqj3iJK",
        "colab_type": "code",
        "colab": {
          "base_uri": "https://localhost:8080/",
          "height": 136
        },
        "outputId": "409149e3-56d0-4964-cd2a-c7d9a6e13134"
      },
      "source": [
        "class BankAccount:\n",
        "   def __init__(self,owner,balance):\n",
        "       self.owner =owner\n",
        "       self.balance = balance\n",
        "      \n",
        "\n",
        "   def deposit(self,amount):\n",
        "      self.balance +=amount\n",
        "      return self.balance\n",
        "   def withdrawal(self,amount):\n",
        "     if self.balance >= amount  :\n",
        "       print(\"success\")\n",
        "     else :\n",
        "       print(\"failed\")\n",
        "      \n",
        "\n",
        "p1 = BankAccount(\"Gopal\",500)\n",
        "print(\"current balance is \",p1.balance)\n",
        "print(\"enter the amount to deposit\")\n",
        "amount = int(input())\n",
        "availableAmount = p1.deposit(amount)\n",
        "print(\"the balance is\",p1.balance)\n",
        "print(\"enter the amount to withdrawal\")\n",
        "withdrawalAmount = int(input())\n",
        "p1.withdrawal(withdrawalAmount)"
      ],
      "execution_count": 96,
      "outputs": [
        {
          "output_type": "stream",
          "text": [
            "current balance is  500\n",
            "enter the amount to deposit\n",
            "500\n",
            "the balance is 1000\n",
            "enter the amount to withdrawal\n",
            "999\n",
            "success\n"
          ],
          "name": "stdout"
        }
      ]
    },
    #2 program to find volume and surface area of cone
    {
      "cell_type": "code",
      "metadata": {
        "id": "E66gO22J9DCw",
        "colab_type": "code",
        "colab": {
          "base_uri": "https://localhost:8080/",
          "height": 34
        },
        "outputId": "ef2a953b-25b3-4167-e1ad-ace1567d7352"
      },
      "source": [
        ""
      ],
      "execution_count": 53,
      "outputs": [
        {
          "output_type": "execute_result",
          "data": {
            "text/plain": [
              "500"
            ]
          },
          "metadata": {
            "tags": []
          },
          "execution_count": 53
        }
      ]
    },
    {
      "cell_type": "code",
      "metadata": {
        "id": "FtFox0Og_Fiy",
        "colab_type": "code",
        "colab": {
          "base_uri": "https://localhost:8080/",
          "height": 51
        },
        "outputId": "4bf55d14-eb35-4cc7-db7b-74b9aa352037"
      },
      "source": [
        "import math \n",
        "pi = math.pi \n",
        "class VolumeOfCone :\n",
        "   def __init__(self,radius,height):\n",
        "    self.radius = radius\n",
        "    self.height = height\n",
        "   def volume(self,radius, height): \n",
        "    return (1 / 3) * pi * self.radius * self.radius * self.height \n",
        "   def surfacearea(self,radius, s): \n",
        "    return pi * self.radius * s + pi * self.radius * self.radius \n",
        "\n",
        "p1 = VolumeOfCone(5,12)\n",
        " \n",
        "slat_height = float(13) \n",
        "print( \"Volume Of Cone : \", p1.volume(r, h) ) \n",
        "print( \"Surface Area Of Cone : \", p1.surfacearea(r, slat_height) )"
      ],
      "execution_count": 103,
      "outputs": [
        {
          "output_type": "stream",
          "text": [
            "Volume Of Cone :  314.15926535897927\n",
            "Surface Area Of Cone :  282.7433388230814\n"
          ],
          "name": "stdout"
        }
      ]
    },
    {
      "cell_type": "code",
      "metadata": {
        "id": "y1v7_AI9NnsO",
        "colab_type": "code",
        "colab": {}
      },
      "source": [
        ""
      ],
      "execution_count": 0,
      "outputs": []
    }
  ]
}
