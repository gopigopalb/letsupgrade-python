{
  "nbformat": 4,
  "nbformat_minor": 0,
  "metadata": {
    "colab": {
      "name": "Copy of grade.ipynb",
      "provenance": [],
      "authorship_tag": "ABX9TyPzclZq6XRMNq/m7JFOYzwW",
      "include_colab_link": true
    },
    "kernelspec": {
      "name": "python3",
      "display_name": "Python 3"
    }
  },
  "cells": [
    {
      "cell_type": "markdown",
      "metadata": {
        "id": "view-in-github",
        "colab_type": "text"
      },
      "source": [
        "<a href=\"https://colab.research.google.com/github/gopigopalb/letsupgrade-python/blob/master/Copy_of_grade.ipynb\" target=\"_parent\"><img src=\"https://colab.research.google.com/assets/colab-badge.svg\" alt=\"Open In Colab\"/></a>"
      ]
    },
    {
      "cell_type": "code",
      "metadata": {
        "id": "jckhZHhk2tH-",
        "colab_type": "code",
        "colab": {}
      },
      "source": [
        "#program to print grade for given input"
      ],
      "execution_count": 0,
      "outputs": []
    },
    {
      "cell_type": "code",
      "metadata": {
        "id": "aP_-qH-Lnyup",
        "colab_type": "code",
        "outputId": "9cb1c73c-d066-42c5-f18f-8cbca068b0d7",
        "colab": {
          "base_uri": "https://localhost:8080/",
          "height": 34
        }
      },
      "source": [
        "a = int(input())"
      ],
      "execution_count": 0,
      "outputs": [
        {
          "output_type": "stream",
          "text": [
            "35\n"
          ],
          "name": "stdout"
        }
      ]
    },
    {
      "cell_type": "code",
      "metadata": {
        "id": "UTmKxmKDofcT",
        "colab_type": "code",
        "colab": {}
      },
      "source": [
        "if a >= 90 and a<=100:\n",
        " grade = 'A'\n",
        "\n",
        "elif a>= 80 and a<90 :\n",
        "  grade = 'B'\n",
        "\n",
        "elif a>=70 and a<80 :\n",
        "  grade = 'C'\n",
        "\n",
        "elif a>=50 and a<70 :\n",
        "  grade = 'D'\n",
        "\n",
        "elif a>=30 and a<50 :\n",
        "  grade = 'E'\n",
        "\n",
        "else :\n",
        "  grade = 'F'"
      ],
      "execution_count": 0,
      "outputs": []
    },
    {
      "cell_type": "code",
      "metadata": {
        "id": "IGUq-UJrpDgw",
        "colab_type": "code",
        "outputId": "0b6a2501-e2bd-4829-d33f-e55122fdffac",
        "colab": {
          "base_uri": "https://localhost:8080/",
          "height": 68
        }
      },
      "source": [
        "print(\"|-----------|\")\n",
        "print(\"|\",end=\"   \")\n",
        "print(grade,end = \"       \")\n",
        "print(\"|\")\n",
        "print(\"|-----------|\")"
      ],
      "execution_count": 0,
      "outputs": [
        {
          "output_type": "stream",
          "text": [
            "|-----------|\n",
            "|   E       |\n",
            "|-----------|\n"
          ],
          "name": "stdout"
        }
      ]
    },
    {
      "cell_type": "code",
      "metadata": {
        "id": "ZTutjIVb8DfW",
        "colab_type": "code",
        "colab": {}
      },
      "source": [
        ""
      ],
      "execution_count": 0,
      "outputs": []
    },
    {
      "cell_type": "code",
      "metadata": {
        "id": "QXEsuvvG417k",
        "colab_type": "code",
        "colab": {}
      },
      "source": [
        "#2 program to guess the score to compare with computer random numbers"
      ],
      "execution_count": 0,
      "outputs": []
    },
    {
      "cell_type": "code",
      "metadata": {
        "id": "jtKSI6Tdyrfq",
        "colab_type": "code",
        "colab": {}
      },
      "source": [
        "import random\n",
        "\n",
        "\n",
        "random1= random.randint(0,250)\n"
      ],
      "execution_count": 0,
      "outputs": []
    },
    {
      "cell_type": "code",
      "metadata": {
        "id": "viZf2kTmyrbb",
        "colab_type": "code",
        "outputId": "544ede77-8cec-4881-cdae-8ddee023b407",
        "colab": {
          "base_uri": "https://localhost:8080/",
          "height": 34
        }
      },
      "source": [
        "random1"
      ],
      "execution_count": 0,
      "outputs": [
        {
          "output_type": "execute_result",
          "data": {
            "text/plain": [
              "13"
            ]
          },
          "metadata": {
            "tags": []
          },
          "execution_count": 89
        }
      ]
    },
    {
      "cell_type": "code",
      "metadata": {
        "id": "04hsujnr4ZLD",
        "colab_type": "code",
        "outputId": "5cbeb9fd-707a-4860-cadc-9a69bf788812",
        "colab": {
          "base_uri": "https://localhost:8080/",
          "height": 34
        }
      },
      "source": [
        "guess = int(input())"
      ],
      "execution_count": 0,
      "outputs": [
        {
          "output_type": "stream",
          "text": [
            "250\n"
          ],
          "name": "stdout"
        }
      ]
    },
    {
      "cell_type": "code",
      "metadata": {
        "id": "sOTc5iQL4qtF",
        "colab_type": "code",
        "outputId": "dfeb2fca-ee23-4127-a0fd-b4563ef82718",
        "colab": {
          "base_uri": "https://localhost:8080/",
          "height": 34
        }
      },
      "source": [
        "guess1 = random1 - 10\n",
        "guess2 = random1 + 10\n",
        "\n",
        "if guess < 1 :\n",
        " print(\"reduce your expectation\")\n",
        "elif guess > 250 :\n",
        "  print(\"reduce your expectation\")\n",
        "elif guess >= guess1 and guess <=guess2:\n",
        "  print(\"you are true indian cricket team fan\")\n",
        "else : \n",
        "  print(\"you are not fan\")\n"
      ],
      "execution_count": 0,
      "outputs": [
        {
          "output_type": "stream",
          "text": [
            "you are not fan\n"
          ],
          "name": "stdout"
        }
      ]
    },
    {
      "cell_type": "code",
      "metadata": {
        "id": "idFu1Gb18BkW",
        "colab_type": "code",
        "colab": {}
      },
      "source": [
        ""
      ],
      "execution_count": 0,
      "outputs": []
    },
    {
      "cell_type": "code",
      "metadata": {
        "id": "WZahNTbs4X9c",
        "colab_type": "code",
        "colab": {}
      },
      "source": [
        "#4 program to print appropriate text for each photo  in a new line"
      ],
      "execution_count": 0,
      "outputs": []
    },
    {
      "cell_type": "code",
      "metadata": {
        "id": "vYAog1CU_q51",
        "colab_type": "code",
        "colab": {
          "base_uri": "https://localhost:8080/",
          "height": 34
        },
        "outputId": "7c84dcec-06ff-48c3-a0e7-da38077e244e"
      },
      "source": [
        "L = int(input())"
      ],
      "execution_count": 2,
      "outputs": [
        {
          "output_type": "stream",
          "text": [
            "180\n"
          ],
          "name": "stdout"
        }
      ]
    },
    {
      "cell_type": "code",
      "metadata": {
        "id": "Srr73hCxFNTI",
        "colab_type": "code",
        "outputId": "cbe68497-a32c-4acc-eb92-fa2e1a487421",
        "colab": {
          "base_uri": "https://localhost:8080/",
          "height": 34
        }
      },
      "source": [
        "n = int(input())"
      ],
      "execution_count": 3,
      "outputs": [
        {
          "output_type": "stream",
          "text": [
            "3\n"
          ],
          "name": "stdout"
        }
      ]
    },
    {
      "cell_type": "code",
      "metadata": {
        "id": "n5tvDFdRFQ_f",
        "colab_type": "code",
        "colab": {
          "base_uri": "https://localhost:8080/",
          "height": 85
        },
        "outputId": "2223b6a5-336c-44e7-b048-e14387c285fd"
      },
      "source": [
        "for i in range(n):\n",
        "    demintionList = list(map(int,input().split()))\n",
        "if demintionList[0] < L or demintionList[1] < L:\n",
        "    print(\"UPLOAD ANOTHER\")\n",
        "elif demintionList[0] == demintionList[1] :\n",
        "    print(\"ACCEPTED\")\n",
        "else:\n",
        "    print(\"CROP IT\")"
      ],
      "execution_count": 4,
      "outputs": [
        {
          "output_type": "stream",
          "text": [
            "640 480\n",
            "120 300\n",
            "180 180\n",
            "ACCEPTED\n"
          ],
          "name": "stdout"
        }
      ]
    },
    {
      "cell_type": "code",
      "metadata": {
        "id": "K9wDUFix79e1",
        "colab_type": "code",
        "colab": {}
      },
      "source": [
        ""
      ],
      "execution_count": 0,
      "outputs": []
    },
    {
      "cell_type": "code",
      "metadata": {
        "id": "9sK4ZmF84Igs",
        "colab_type": "code",
        "colab": {}
      },
      "source": [
        "#3 program to handling files using python script"
      ],
      "execution_count": 0,
      "outputs": []
    },
    {
      "cell_type": "code",
      "metadata": {
        "id": "Db9R7wAmHotr",
        "colab_type": "code",
        "colab": {}
      },
      "source": [
        "f = open(\"test.txt\",'w')"
      ],
      "execution_count": 0,
      "outputs": []
    },
    {
      "cell_type": "code",
      "metadata": {
        "id": "-52mZlbu33y8",
        "colab_type": "code",
        "colab": {}
      },
      "source": [
        "with open(\"test.txt\",'w') as f:\n",
        "   f.write(\"I love FCS\\n\")\n"
      ],
      "execution_count": 0,
      "outputs": []
    },
    {
      "cell_type": "code",
      "metadata": {
        "id": "yp2OhUq93-cz",
        "colab_type": "code",
        "colab": {}
      },
      "source": [
        "f.close()"
      ],
      "execution_count": 0,
      "outputs": []
    },
    {
      "cell_type": "code",
      "metadata": {
        "id": "l1ECqQuE4A3t",
        "colab_type": "code",
        "colab": {}
      },
      "source": [
        "f = open(\"test.txt\",'r')"
      ],
      "execution_count": 0,
      "outputs": []
    },
    {
      "cell_type": "code",
      "metadata": {
        "id": "tri9nKLw4DdX",
        "colab_type": "code",
        "colab": {
          "base_uri": "https://localhost:8080/",
          "height": 51
        },
        "outputId": "2618a68c-bfcb-495e-9add-816ab30c8024"
      },
      "source": [
        " print(f.read())"
      ],
      "execution_count": 10,
      "outputs": [
        {
          "output_type": "stream",
          "text": [
            "I love FCS\n",
            "\n"
          ],
          "name": "stdout"
        }
      ]
    },
    {
      "cell_type": "code",
      "metadata": {
        "id": "tW_GCwci77g0",
        "colab_type": "code",
        "colab": {}
      },
      "source": [
        ""
      ],
      "execution_count": 0,
      "outputs": []
    },
    {
      "cell_type": "code",
      "metadata": {
        "id": "Y03XM8317p3I",
        "colab_type": "code",
        "colab": {}
      },
      "source": [
        "#5 E Maze using python program"
      ],
      "execution_count": 0,
      "outputs": []
    },
    {
      "cell_type": "code",
      "metadata": {
        "id": "rPL-p_yH4GXt",
        "colab_type": "code",
        "colab": {
          "base_uri": "https://localhost:8080/",
          "height": 34
        },
        "outputId": "5386764d-9e3a-4b2f-eaa7-6b3027439543"
      },
      "source": [
        "name = input() "
      ],
      "execution_count": 26,
      "outputs": [
        {
          "output_type": "stream",
          "text": [
            "gopal\n"
          ],
          "name": "stdout"
        }
      ]
    },
    {
      "cell_type": "code",
      "metadata": {
        "id": "_d43fe-z55hq",
        "colab_type": "code",
        "colab": {
          "base_uri": "https://localhost:8080/",
          "height": 34
        },
        "outputId": "93df60d7-c058-4ade-f55c-2f00e336a7ae"
      },
      "source": [
        "print('Hi, %s.' % name)"
      ],
      "execution_count": 27,
      "outputs": [
        {
          "output_type": "stream",
          "text": [
            "Hi, gopal.\n"
          ],
          "name": "stdout"
        }
      ]
    },
    {
      "cell_type": "code",
      "metadata": {
        "id": "EqRj1AnQ6Aet",
        "colab_type": "code",
        "colab": {
          "base_uri": "https://localhost:8080/",
          "height": 34
        },
        "outputId": "ad234a4a-f65c-4f24-b4d4-9d66bbee58f9"
      },
      "source": [
        "s=input()\n",
        "a=0\n",
        "b=0"
      ],
      "execution_count": 24,
      "outputs": [
        {
          "output_type": "stream",
          "text": [
            "LLRDDR\n"
          ],
          "name": "stdout"
        }
      ]
    },
    {
      "cell_type": "code",
      "metadata": {
        "id": "pUo5xUEb6IIF",
        "colab_type": "code",
        "colab": {
          "base_uri": "https://localhost:8080/",
          "height": 34
        },
        "outputId": "3b1274c5-8b32-4531-cfa1-db2bc63a3ccd"
      },
      "source": [
        "for i in s:\n",
        "    if i=='L':\n",
        "        a-=1\n",
        "    if i=='R':\n",
        "        a+=1\n",
        "    if i=='U':\n",
        "        b+=1    \n",
        "    if i=='D':\n",
        "        b-=1\n",
        "print(a,b)    "
      ],
      "execution_count": 25,
      "outputs": [
        {
          "output_type": "stream",
          "text": [
            "0 -2\n"
          ],
          "name": "stdout"
        }
      ]
    },
    {
      "cell_type": "code",
      "metadata": {
        "id": "gBJ7Ibgq6b-B",
        "colab_type": "code",
        "colab": {}
      },
      "source": [
        ""
      ],
      "execution_count": 0,
      "outputs": []
    }
  ]
}