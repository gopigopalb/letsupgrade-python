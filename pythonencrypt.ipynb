{
  "nbformat": 4,
  "nbformat_minor": 0,
  "metadata": {
    "colab": {
      "name": "Untitled9.ipynb",
      "provenance": [],
      "authorship_tag": "ABX9TyMdWXHRrFr6mHJ8GhjAI5EW",
      "include_colab_link": true
    },
    "kernelspec": {
      "name": "python3",
      "display_name": "Python 3"
    }
  },
  "cells": [
    {
      "cell_type": "markdown",
      "metadata": {
        "id": "view-in-github",
        "colab_type": "text"
      },
      "source": [
        "<a href=\"https://colab.research.google.com/github/gopigopalb/letsupgrade-python/blob/master/pythonencrypt.ipynb\" target=\"_parent\"><img src=\"https://colab.research.google.com/assets/colab-badge.svg\" alt=\"Open In Colab\"/></a>"
      ]
    },
    {
      "cell_type": "code",
      "metadata": {
        "id": "_lDjuLxssfrT",
        "colab_type": "code",
        "colab": {}
      },
      "source": [
        ""
      ],
      "execution_count": 0,
      "outputs": []
    },
    {
      "cell_type": "code",
      "metadata": {
        "id": "NXQbjTudsn1L",
        "colab_type": "code",
        "colab": {
          "base_uri": "https://localhost:8080/",
          "height": 68
        },
        "outputId": "e8acc0a5-88fd-4b1c-c1fe-7a5f3e9a0807"
      },
      "source": [
        "import string\n",
        "a=string.ascii_lowercase\n",
        "A=string.ascii_uppercase\n",
        "i=input()\n",
        "k=int(input())\n",
        "for t in i:\n",
        "    b=a.find(t)\n",
        "    B=A.find(t)\n",
        "    if t.isdigit() :\n",
        "        print(str((int(t)+k)%10),end=\"\")\n",
        "    elif b!=-1:\n",
        "        print(a[(b+k)%26],end=\"\")\n",
        "    elif B!=-1:\n",
        "        print(A[(B+k)%26],end=\"\")\n",
        "    else:\n",
        "        print(t,end=\"\")"
      ],
      "execution_count": 6,
      "outputs": [
        {
          "output_type": "stream",
          "text": [
            "All-convoYs-9-be:Alert1.\n",
            "4\n",
            "Epp-gsrzsCw-3-fi:Epivx5."
          ],
          "name": "stdout"
        }
      ]
    },
    {
      "cell_type": "code",
      "metadata": {
        "id": "zwY9mjGIs3gs",
        "colab_type": "code",
        "colab": {}
      },
      "source": [
        ""
      ],
      "execution_count": 0,
      "outputs": []
    },
    {
      "cell_type": "code",
      "metadata": {
        "id": "qMDa5LPLs7L3",
        "colab_type": "code",
        "colab": {}
      },
      "source": [
        ""
      ],
      "execution_count": 0,
      "outputs": []
    }
  ]
}