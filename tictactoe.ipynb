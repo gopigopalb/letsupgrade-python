{
  "nbformat": 4,
  "nbformat_minor": 0,
  "metadata": {
    "colab": {
      "name": "Untitled12.ipynb",
      "provenance": [],
      "authorship_tag": "ABX9TyMgidXBNIClv0hFxJA2ilX0",
      "include_colab_link": true
    },
    "kernelspec": {
      "name": "python3",
      "display_name": "Python 3"
    }
  },
  "cells": [
    {
      "cell_type": "markdown",
      "metadata": {
        "id": "view-in-github",
        "colab_type": "text"
      },
      "source": [
        "<a href=\"https://colab.research.google.com/github/gopigopalb/letsupgrade-python/blob/master/tictactoe.ipynb\" target=\"_parent\"><img src=\"https://colab.research.google.com/assets/colab-badge.svg\" alt=\"Open In Colab\"/></a>"
      ]
    },
    {
      "cell_type": "code",
      "metadata": {
        "id": "7lBvsfuj3hqQ",
        "colab_type": "code",
        "colab": {
          "base_uri": "https://localhost:8080/",
          "height": 136
        },
        "outputId": "1f0633ee-aa26-4e83-fc6e-7ba0c1b8d054"
      },
      "source": [
        "while True:\n",
        "    \n",
        "    board = [' ']* 10\n",
        "    \n",
        "    \n",
        "    player1_marker, player2_marker = player_input()\n",
        "    turn = choose_first()\n",
        "    \n",
        "    print(turn + \" Will play First\")\n",
        "    \n",
        "    play_game = input(\"Are you ready to play the game Y/N\").lower().startswith('y')\n",
        "    \n",
        "    if play_game:\n",
        "        game_on = True\n",
        "    else:\n",
        "        game_on = False\n",
        "    \n",
        "    while game_on:\n",
        "        if turn == 'Player 1':\n",
        "            # Game logic starts here for player 1 \n",
        "            \n",
        "            display_board(board)\n",
        "            position = players_choice(board)\n",
        "            place_marker(board,player1_marker,position)\n",
        "            \n",
        "            if win_check(board,player1_marker):\n",
        "                display_board(board)\n",
        "                print(\"Player 1 Won the game!! congratzz\")\n",
        "                game_on = False\n",
        "            else:\n",
        "                if full_board_check(board):\n",
        "                    display_board(board)\n",
        "                    print('The Game is Draw, Better luck next time !!')\n",
        "                    break\n",
        "                else:\n",
        "                    turn = \"Player 2\"\n",
        "        else:\n",
        "            # Player 2 Logic \n",
        "            \n",
        "            display_board(board)\n",
        "            position = players_choice(board)\n",
        "            place_marker(board,player2_marker,position)\n",
        "            \n",
        "            if win_check(board,player2_marker):\n",
        "                display_board(board)\n",
        "                print(\"Player 2 Won the game!! congratzz\")\n",
        "                game_on = False\n",
        "            else:\n",
        "                if full_board_check(board):\n",
        "                    display_board(board)\n",
        "                    print('The Game is Draw, Better luck next time !!')\n",
        "                    break\n",
        "                else:\n",
        "                    turn = \"Player 1\"\n",
        "    \n",
        "    if not replay():\n",
        "        break"
      ],
      "execution_count": 27,
      "outputs": [
        {
          "output_type": "stream",
          "text": [
            " O |   |   \n",
            "---------\n",
            " X | O | X \n",
            "---------\n",
            " X |   | O \n",
            "Player 2 Won the game!! congratzz\n",
            "Do you want to play again (Y/N) : 8\n"
          ],
          "name": "stdout"
        }
      ]
    },
    {
      "cell_type": "code",
      "metadata": {
        "id": "bOmf5Gqj3iJK",
        "colab_type": "code",
        "colab": {}
      },
      "source": [
        ""
      ],
      "execution_count": 0,
      "outputs": []
    }
  ]
}