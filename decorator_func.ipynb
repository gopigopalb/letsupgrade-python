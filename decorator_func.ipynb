{
  "nbformat": 4,
  "nbformat_minor": 0,
  "metadata": {
    "colab": {
      "name": "Untitled14.ipynb",
      "provenance": [],
      "authorship_tag": "ABX9TyMqvklxyTU4zipXxVaa58KP",
      "include_colab_link": true
    },
    "kernelspec": {
      "name": "python3",
      "display_name": "Python 3"
    }
  },
  "cells": [
    {
      "cell_type": "markdown",
      "metadata": {
        "id": "view-in-github",
        "colab_type": "text"
      },
      "source": [
        "<a href=\"https://colab.research.google.com/github/gopigopalb/letsupgrade-python/blob/master/decorator_func.ipynb\" target=\"_parent\"><img src=\"https://colab.research.google.com/assets/colab-badge.svg\" alt=\"Open In Colab\"/></a>"
      ]
    },
    {
      "cell_type": "code",
      "metadata": {
        "id": "4do7K87ZsDq_",
        "colab_type": "code",
        "colab": {}
      },
      "source": [
        "def userInput(some_func):\n",
        "  def fibInput():\n",
        "    a = int(input(\"enter a number\"))\n",
        "    some_func(a)\n",
        "  return fibInput()"
      ],
      "execution_count": 0,
      "outputs": []
    },
    {
      "cell_type": "code",
      "metadata": {
        "id": "bLWkqilAs8E5",
        "colab_type": "code",
        "colab": {
          "base_uri": "https://localhost:8080/",
          "height": 170
        },
        "outputId": "8b335bb5-16bc-4505-ecc3-abbca1abafb9"
      },
      "source": [
        "@userInput\n",
        "\n",
        "def fib(a):\n",
        "  n1 = 0\n",
        "  n2 = 1\n",
        "  if a < 0:\n",
        "    print(\"enter a positive number\")\n",
        "  elif a ==1:\n",
        "      print(\"series is\",0)\n",
        "  elif a == 2:\n",
        "      print(\"series is\",1)\n",
        "  else:\n",
        "      print(\"series are\")\n",
        "      print(\"0\")\n",
        "      print(\"1\")\n",
        "      for i in range(2,a):\n",
        "        n = n1+n2\n",
        "        print(n)\n",
        "        n1=n2\n",
        "        n2=n"
      ],
      "execution_count": 3,
      "outputs": [
        {
          "output_type": "stream",
          "text": [
            "enter a number7\n",
            "series are\n",
            "0\n",
            "1\n",
            "1\n",
            "2\n",
            "3\n",
            "5\n",
            "8\n"
          ],
          "name": "stdout"
        }
      ]
    },
    {
      "cell_type": "code",
      "metadata": {
        "id": "L-COD58VtvXI",
        "colab_type": "code",
        "colab": {}
      },
      "source": [
        ""
      ],
      "execution_count": 0,
      "outputs": []
    }
  ]
}