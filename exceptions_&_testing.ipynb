{
  "nbformat": 4,
  "nbformat_minor": 0,
  "metadata": {
    "colab": {
      "name": "exceptions & testing.ipynb",
      "provenance": [],
      "authorship_tag": "ABX9TyNg1bSMJCCr0X7DhrHxlfal",
      "include_colab_link": true
    },
    "kernelspec": {
      "name": "python3",
      "display_name": "Python 3"
    }
  },
  "cells": [
    {
      "cell_type": "markdown",
      "metadata": {
        "id": "view-in-github",
        "colab_type": "text"
      },
      "source": [
        "<a href=\"https://colab.research.google.com/github/gopigopalb/letsupgrade-python/blob/master/exceptions_%26_testing.ipynb\" target=\"_parent\"><img src=\"https://colab.research.google.com/assets/colab-badge.svg\" alt=\"Open In Colab\"/></a>"
      ]
    },
    {
      "cell_type": "code",
      "metadata": {
        "id": "slBqm7Sir0yQ",
        "colab_type": "code",
        "colab": {}
      },
      "source": [
        "#1 program to handle error exceptions in files"
      ],
      "execution_count": 0,
      "outputs": []
    },
    {
      "cell_type": "code",
      "metadata": {
        "id": "LmVXpHZNrZg2",
        "colab_type": "code",
        "colab": {}
      },
      "source": [
        "f = open(\"file.txt\",\"w\")\n",
        "f.write(\"hi i am gopal\")\n",
        "f.close()"
      ],
      "execution_count": 0,
      "outputs": []
    },
    {
      "cell_type": "code",
      "metadata": {
        "id": "-9g6c5wLrZek",
        "colab_type": "code",
        "colab": {
          "base_uri": "https://localhost:8080/",
          "height": 34
        },
        "outputId": "c9838260-4e1e-4cf7-c2c0-df02e04ee195"
      },
      "source": [
        "f = open(\"file.txt\",\"r\")\n",
        "f.read()"
      ],
      "execution_count": 11,
      "outputs": [
        {
          "output_type": "execute_result",
          "data": {
            "text/plain": [
              "'hi i am gopal'"
            ]
          },
          "metadata": {
            "tags": []
          },
          "execution_count": 11
        }
      ]
    },
    {
      "cell_type": "code",
      "metadata": {
        "id": "-70895RerZbX",
        "colab_type": "code",
        "colab": {
          "base_uri": "https://localhost:8080/",
          "height": 51
        },
        "outputId": "c07b0e53-2b3e-43af-84ca-ed8a346972e2"
      },
      "source": [
        "try :\n",
        "    f = open(\"file.txt\",'r')\n",
        "    f.write(\"hello upgraders\")\n",
        "except Exception as e :\n",
        "    print(\"error is:\",e)\n",
        "    f=open(\"file.txt\",'r')\n",
        "    print(f.read())\n",
        "finally:\n",
        "    f.close()"
      ],
      "execution_count": 12,
      "outputs": [
        {
          "output_type": "stream",
          "text": [
            "error is: not writable\n",
            "hi i am gopal\n"
          ],
          "name": "stdout"
        }
      ]
    },
    {
      "cell_type": "code",
      "metadata": {
        "id": "5GhLk_fOrZZE",
        "colab_type": "code",
        "colab": {}
      },
      "source": [
        ""
      ],
      "execution_count": 0,
      "outputs": []
    },
    {
      "cell_type": "code",
      "metadata": {
        "id": "QiqLiQ4hrZGe",
        "colab_type": "code",
        "colab": {}
      },
      "source": [
        "#2 program to check prime numbers and testing using pyint"
      ],
      "execution_count": 0,
      "outputs": []
    },
    {
      "cell_type": "code",
      "metadata": {
        "id": "A3NfMkOUo0Rs",
        "colab_type": "code",
        "colab": {
          "base_uri": "https://localhost:8080/",
          "height": 34
        },
        "outputId": "9723e688-878a-4b1b-f584-8477d60e701d"
      },
      "source": [
        "%%writefile pyint.py\n",
        "'''this is doc string'''\n",
        "def check_prime(num):\n",
        "  '''this code is to check prime numer'''\n",
        "  if num > 1:\n",
        "    for i in range(2,num-1):\n",
        "      if(num % i) == 0:\n",
        "        return 0\n",
        "    else :\n",
        "      return 1\n",
        "  else:\n",
        "    return \"number is 1\""
      ],
      "execution_count": 6,
      "outputs": [
        {
          "output_type": "stream",
          "text": [
            "Writing pyint.py\n"
          ],
          "name": "stdout"
        }
      ]
    },
    {
      "cell_type": "code",
      "metadata": {
        "id": "DFEixuzGo_l3",
        "colab_type": "code",
        "colab": {
          "base_uri": "https://localhost:8080/",
          "height": 34
        },
        "outputId": "bfd958c8-71d6-4e0e-f406-de529d74c716"
      },
      "source": [
        "%%writefile unittest_prime.py\n",
        "import unittest\n",
        "import pyint\n",
        "class Test_num(unittest.TestCase):\n",
        "  def test_num1(self):\n",
        "    A=5\n",
        "    result=pyint.check_prime(A)\n",
        "    self.assertEqual(result,1)\n",
        "if __name__ == '__main__':\n",
        "  unittest.main()"
      ],
      "execution_count": 7,
      "outputs": [
        {
          "output_type": "stream",
          "text": [
            "Writing unittest_prime.py\n"
          ],
          "name": "stdout"
        }
      ]
    },
    {
      "cell_type": "code",
      "metadata": {
        "id": "w52LwjLPo6Jp",
        "colab_type": "code",
        "colab": {
          "base_uri": "https://localhost:8080/",
          "height": 102
        },
        "outputId": "02f9b49d-72b3-4d47-d293-822e2825d057"
      },
      "source": [
        "!python unittest_prime.py"
      ],
      "execution_count": 8,
      "outputs": [
        {
          "output_type": "stream",
          "text": [
            ".\n",
            "----------------------------------------------------------------------\n",
            "Ran 1 test in 0.000s\n",
            "\n",
            "OK\n"
          ],
          "name": "stdout"
        }
      ]
    }
  ]
}